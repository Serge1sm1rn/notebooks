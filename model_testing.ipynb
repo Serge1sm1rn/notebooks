{
 "cells": [
  {
   "cell_type": "markdown",
   "id": "2502245a-e797-491c-890b-f2241e53f432",
   "metadata": {},
   "source": [
    "## Import"
   ]
  },
  {
   "cell_type": "code",
   "execution_count": 142,
   "id": "bc137613-e772-4ff3-9b50-9c53bb239a42",
   "metadata": {},
   "outputs": [],
   "source": [
    "import pandas as pd\n",
    "import numpy as np\n",
    "import matplotlib as plt"
   ]
  },
  {
   "cell_type": "markdown",
   "id": "2eeb006d-6ae9-4da8-85c5-ac7d6d495a5c",
   "metadata": {},
   "source": [
    "## Load data"
   ]
  },
  {
   "cell_type": "code",
   "execution_count": 143,
   "id": "ab0007cd-c125-4588-9f9d-85a5a5dd076d",
   "metadata": {},
   "outputs": [],
   "source": [
    "data = pd.read_csv('diamonds (cleaned) (1).csv')\n",
    "df = pd.DataFrame(data)\n"
   ]
  },
  {
   "cell_type": "markdown",
   "id": "660b86f9-a533-496a-8959-5d5663215715",
   "metadata": {},
   "source": [
    "## Cleaning"
   ]
  },
  {
   "cell_type": "code",
   "execution_count": 144,
   "id": "ebdc0ea7-aa6c-45c8-9a72-ec2f519b2992",
   "metadata": {},
   "outputs": [
    {
     "data": {
      "text/plain": [
       "Shape                    5\n",
       "Cut                   4303\n",
       "Color                    5\n",
       "Clarity                  5\n",
       "Carat Weight             5\n",
       "Length/Width Ratio       5\n",
       "Depth %                  7\n",
       "Table %                 17\n",
       "Polish                  20\n",
       "Symmetry                20\n",
       "Girdle                  22\n",
       "Culet                 4594\n",
       "Length                  20\n",
       "Width                   20\n",
       "Height                  20\n",
       "Price                    0\n",
       "Type                     0\n",
       "Fluorescence          5264\n",
       "dtype: int64"
      ]
     },
     "execution_count": 144,
     "metadata": {},
     "output_type": "execute_result"
    }
   ],
   "source": [
    "df.isna().sum()"
   ]
  },
  {
   "cell_type": "code",
   "execution_count": 145,
   "id": "8035d438-fb0e-41f7-bcdb-216e9ecf607a",
   "metadata": {},
   "outputs": [],
   "source": [
    "df.drop(['Cut','Culet','Fluorescence'],axis = 1,inplace = True)"
   ]
  },
  {
   "cell_type": "code",
   "execution_count": 146,
   "id": "f75e26f6-9ffc-45b5-afcf-edddc7b4e2d2",
   "metadata": {},
   "outputs": [
    {
     "data": {
      "text/plain": [
       "Shape                  5\n",
       "Color                  5\n",
       "Clarity                5\n",
       "Carat Weight           5\n",
       "Length/Width Ratio     5\n",
       "Depth %                7\n",
       "Table %               17\n",
       "Polish                20\n",
       "Symmetry              20\n",
       "Girdle                22\n",
       "Length                20\n",
       "Width                 20\n",
       "Height                20\n",
       "Price                  0\n",
       "Type                   0\n",
       "dtype: int64"
      ]
     },
     "execution_count": 146,
     "metadata": {},
     "output_type": "execute_result"
    }
   ],
   "source": [
    "df.isna().sum()"
   ]
  },
  {
   "cell_type": "code",
   "execution_count": 147,
   "id": "cef4c44f-eed2-4ce6-aa37-c9ee21105c79",
   "metadata": {},
   "outputs": [
    {
     "data": {
      "text/plain": [
       "Shape                  object\n",
       "Color                  object\n",
       "Clarity                object\n",
       "Carat Weight          float64\n",
       "Length/Width Ratio    float64\n",
       "Depth %               float64\n",
       "Table %               float64\n",
       "Polish                 object\n",
       "Symmetry               object\n",
       "Girdle                 object\n",
       "Length                float64\n",
       "Width                 float64\n",
       "Height                float64\n",
       "Price                   int64\n",
       "Type                   object\n",
       "dtype: object"
      ]
     },
     "execution_count": 147,
     "metadata": {},
     "output_type": "execute_result"
    }
   ],
   "source": [
    "df.dtypes"
   ]
  },
  {
   "cell_type": "code",
   "execution_count": 148,
   "id": "46bede09-e579-47e9-9bd7-2c786a3b563a",
   "metadata": {},
   "outputs": [],
   "source": [
    "df = df.drop(df[df['Height'].isna()].index.tolist())"
   ]
  },
  {
   "cell_type": "code",
   "execution_count": 149,
   "id": "07a8244a-bed9-449c-b2df-f956cca5b830",
   "metadata": {},
   "outputs": [
    {
     "data": {
      "text/plain": [
       "Shape                 0\n",
       "Color                 0\n",
       "Clarity               0\n",
       "Carat Weight          0\n",
       "Length/Width Ratio    0\n",
       "Depth %               0\n",
       "Table %               0\n",
       "Polish                0\n",
       "Symmetry              0\n",
       "Girdle                2\n",
       "Length                0\n",
       "Width                 0\n",
       "Height                0\n",
       "Price                 0\n",
       "Type                  0\n",
       "dtype: int64"
      ]
     },
     "execution_count": 149,
     "metadata": {},
     "output_type": "execute_result"
    }
   ],
   "source": [
    "df.isnull().sum()"
   ]
  },
  {
   "cell_type": "markdown",
   "id": "1e60a53a-66e0-42b6-8006-eab3fd700270",
   "metadata": {},
   "source": [
    "## Encoding\n"
   ]
  },
  {
   "cell_type": "markdown",
   "id": "18514d9c-a162-45c3-8d84-709681960f65",
   "metadata": {},
   "source": [
    "## Model\n"
   ]
  },
  {
   "cell_type": "markdown",
   "id": "33115d37-2981-4959-b770-c15c52fdd1ae",
   "metadata": {},
   "source": [
    "## Prediction"
   ]
  },
  {
   "cell_type": "markdown",
   "id": "dcce4d5f-9706-4945-bd85-01e2a1fe2706",
   "metadata": {},
   "source": [
    "## Accurcy"
   ]
  },
  {
   "cell_type": "code",
   "execution_count": null,
   "id": "1572505d-4d8f-4902-9020-dd2b68b445bf",
   "metadata": {},
   "outputs": [],
   "source": []
  }
 ],
 "metadata": {
  "kernelspec": {
   "display_name": "Python 3 (ipykernel)",
   "language": "python",
   "name": "python3"
  },
  "language_info": {
   "codemirror_mode": {
    "name": "ipython",
    "version": 3
   },
   "file_extension": ".py",
   "mimetype": "text/x-python",
   "name": "python",
   "nbconvert_exporter": "python",
   "pygments_lexer": "ipython3",
   "version": "3.13.1"
  }
 },
 "nbformat": 4,
 "nbformat_minor": 5
}
